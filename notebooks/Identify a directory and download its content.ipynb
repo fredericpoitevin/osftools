{
 "cells": [
  {
   "cell_type": "markdown",
   "metadata": {},
   "source": [
    "# Identify a directory and download its content"
   ]
  },
  {
   "cell_type": "code",
   "execution_count": 1,
   "metadata": {},
   "outputs": [],
   "source": [
    "import numpy as np\n",
    "from osftools import osf_display as display\n",
    "from osftools import osf_interact as interact"
   ]
  },
  {
   "cell_type": "code",
   "execution_count": 2,
   "metadata": {},
   "outputs": [],
   "source": [
    "PROJECT_ID  = 'fuaqw'\n",
    "PROJECT_URL = interact.format_url(PROJECT_ID)\n",
    "PROJECT_DIR = '/Users/fpoitevi/gdrive/cryoEM/Projects/Hugues_5ht3'"
   ]
  },
  {
   "cell_type": "markdown",
   "metadata": {},
   "source": [
    "### Let's list all the directories in our project"
   ]
  },
  {
   "cell_type": "code",
   "execution_count": 3,
   "metadata": {},
   "outputs": [],
   "source": [
    "dirlist, idlist = interact.url_to_idlist(PROJECT_URL, kind='folder')"
   ]
  },
  {
   "cell_type": "code",
   "execution_count": 4,
   "metadata": {},
   "outputs": [
    {
     "name": "stdout",
     "output_type": "stream",
     "text": [
      "Found directory Dataset_serotonin_calcium_March2018 with ID 5d2490391c5b4a001b9be7e1\n",
      "Found directory Dataset_serotonin_TMPPAA_Nov2017 with ID 5d259f47a26b34001906e394\n",
      "Found directory Dataset_vortioxetine_distorted_May2019 with ID 5d25d4b91c5b4a001a9e08e3\n",
      "Found directory Dataset_vortioxetine_detergent_May2019 with ID 5d25e58245253a001a3ac99c\n"
     ]
    }
   ],
   "source": [
    "for i in np.arange(len(dirlist)):\n",
    "    print('Found directory {0} with ID {1}'.format(dirlist[i], idlist[i]))"
   ]
  },
  {
   "cell_type": "markdown",
   "metadata": {},
   "source": [
    "### Let's pick one and list all its files"
   ]
  },
  {
   "cell_type": "code",
   "execution_count": 5,
   "metadata": {},
   "outputs": [],
   "source": [
    "DIR_NAME = dirlist[0]\n",
    "DIR_ID   = idlist[0]\n",
    "DIR_URL  = interact.format_url(PROJECT_ID, ID=DIR_ID)\n",
    "filelist, fileidlist = interact.url_to_idlist(DIR_URL, kind='file')"
   ]
  },
  {
   "cell_type": "code",
   "execution_count": 6,
   "metadata": {},
   "outputs": [
    {
     "name": "stdout",
     "output_type": "stream",
     "text": [
      "Found file GridSquare_1250569_Data_FoilHole_1279798_Data_1260339_1260340_20180304_0556-7298_aligned_mic_DW_extract.star with ID 5d24917545253a001b399d14\n",
      "Found file GridSquare_1250569_Data_FoilHole_1279798_Data_1259911_1259912_20180304_0555-7297_aligned_mic_DW_extract.star with ID 5d249176114a4200180218d7\n",
      "Found file GridSquare_1250569_Data_FoilHole_1279798_Data_1259911_1259912_20180304_0555-7297_aligned_mic_DW.mrcs with ID 5d249176114a4200190217dc\n",
      "Found file GridSquare_1250569_Data_FoilHole_1279798_Data_1260339_1260340_20180304_0556-7298_aligned_mic_DW.mrcs with ID 5d2491771c5b4a001b9be94d\n",
      "Found file GridSquare_1250569_Data_FoilHole_1279798_Data_1260350_1260351_20180304_0557-7299_aligned_mic_DW.mrcs with ID 5d2491771c5b4a001b9be94e\n",
      "Found file GridSquare_1250569_Data_FoilHole_1279798_Data_1260350_1260351_20180304_0557-7299_aligned_mic_DW_extract.star with ID 5d249179a26b340019060daf\n",
      "Found file GridSquare_1250569_Data_FoilHole_1279799_Data_1259911_1259912_20180304_0559-7300_aligned_mic_DW.mrcs with ID 5d24917945253a001c3a154a\n",
      "Found file GridSquare_1250569_Data_FoilHole_1279799_Data_1259911_1259912_20180304_0559-7300_aligned_mic_DW_extract.star with ID 5d24917c1c5b4a001a9c4187\n",
      "Found file GridSquare_1250569_Data_FoilHole_1279799_Data_1260339_1260340_20180304_0559-7301_aligned_mic_DW.mrcs with ID 5d24917c1c5b4a001b9be95b\n",
      "Found file GridSquare_1250569_Data_FoilHole_1279799_Data_1260339_1260340_20180304_0559-7301_aligned_mic_DW_extract.star with ID 5d24917d45253a001b399d23\n"
     ]
    }
   ],
   "source": [
    "for i in np.arange(len(filelist)):\n",
    "    print('Found file {0} with ID {1}'.format(filelist[i], fileidlist[i]))"
   ]
  },
  {
   "cell_type": "markdown",
   "metadata": {},
   "source": [
    "There are two things that we need to improve: \n",
    "- we do not retrieve all the files here, only the first 10. \n",
    "- we are not interested in those files, we want to retrieve only the `.mrc`."
   ]
  },
  {
   "cell_type": "code",
   "execution_count": 7,
   "metadata": {},
   "outputs": [
    {
     "name": "stdout",
     "output_type": "stream",
     "text": [
      "Initial length of hit list is 5\n",
      "npages = 2\n",
      "Final length of hit list is 10\n"
     ]
    }
   ],
   "source": [
    "filelist, fileidlist = interact.list_all_files(DIR_URL, ext='star', npages_max=2)"
   ]
  },
  {
   "cell_type": "code",
   "execution_count": 8,
   "metadata": {},
   "outputs": [
    {
     "name": "stdout",
     "output_type": "stream",
     "text": [
      "Found file GridSquare_1250569_Data_FoilHole_1279798_Data_1260339_1260340_20180304_0556-7298_aligned_mic_DW_extract.star with ID 5d24917545253a001b399d14\n",
      "Found file GridSquare_1250569_Data_FoilHole_1279798_Data_1259911_1259912_20180304_0555-7297_aligned_mic_DW_extract.star with ID 5d249176114a4200180218d7\n",
      "Found file GridSquare_1250569_Data_FoilHole_1279798_Data_1260350_1260351_20180304_0557-7299_aligned_mic_DW_extract.star with ID 5d249179a26b340019060daf\n",
      "Found file GridSquare_1250569_Data_FoilHole_1279799_Data_1259911_1259912_20180304_0559-7300_aligned_mic_DW_extract.star with ID 5d24917c1c5b4a001a9c4187\n",
      "Found file GridSquare_1250569_Data_FoilHole_1279799_Data_1260339_1260340_20180304_0559-7301_aligned_mic_DW_extract.star with ID 5d24917d45253a001b399d23\n",
      "Found file GridSquare_1250569_Data_FoilHole_1279799_Data_1260350_1260351_20180304_0600-7302_aligned_mic_DW_extract.star with ID 5d24917f1c5b4a001a9c4194\n",
      "Found file GridSquare_1250569_Data_FoilHole_1279800_Data_1259911_1259912_20180304_0602-7303_aligned_mic_DW_extract.star with ID 5d249180a26b340016064d07\n",
      "Found file GridSquare_1250569_Data_FoilHole_1279800_Data_1260350_1260351_20180304_0603-7305_aligned_mic_DW_extract.star with ID 5d249183114a420016026379\n",
      "Found file GridSquare_1250569_Data_FoilHole_1279800_Data_1260339_1260340_20180304_0603-7304_aligned_mic_DW_extract.star with ID 5d24918445253a001939b6ab\n",
      "Found file GridSquare_1250569_Data_FoilHole_1279801_Data_1260339_1260340_20180304_0606-7307_aligned_mic_DW_extract.star with ID 5d249187a26b340016064d13\n"
     ]
    }
   ],
   "source": [
    "for i in np.arange(len(filelist)):\n",
    "    print('Found file {0} with ID {1}'.format(filelist[i], fileidlist[i]))"
   ]
  },
  {
   "cell_type": "markdown",
   "metadata": {},
   "source": [
    "### Let's download them now"
   ]
  },
  {
   "cell_type": "code",
   "execution_count": 9,
   "metadata": {},
   "outputs": [
    {
     "name": "stdout",
     "output_type": "stream",
     "text": [
      "... Downloading https://osf.io/download/5d24917545253a001b399d14/ to /Users/fpoitevi/gdrive/cryoEM/Projects/Hugues_5ht3/Dataset_serotonin_calcium_March2018/GridSquare_1250569_Data_FoilHole_1279798_Data_1260339_1260340_20180304_0556-7298_aligned_mic_DW_extract.star ...\n",
      "... Downloading https://osf.io/download/5d249176114a4200180218d7/ to /Users/fpoitevi/gdrive/cryoEM/Projects/Hugues_5ht3/Dataset_serotonin_calcium_March2018/GridSquare_1250569_Data_FoilHole_1279798_Data_1259911_1259912_20180304_0555-7297_aligned_mic_DW_extract.star ...\n",
      "... Downloading https://osf.io/download/5d249179a26b340019060daf/ to /Users/fpoitevi/gdrive/cryoEM/Projects/Hugues_5ht3/Dataset_serotonin_calcium_March2018/GridSquare_1250569_Data_FoilHole_1279798_Data_1260350_1260351_20180304_0557-7299_aligned_mic_DW_extract.star ...\n",
      "... Downloading https://osf.io/download/5d24917c1c5b4a001a9c4187/ to /Users/fpoitevi/gdrive/cryoEM/Projects/Hugues_5ht3/Dataset_serotonin_calcium_March2018/GridSquare_1250569_Data_FoilHole_1279799_Data_1259911_1259912_20180304_0559-7300_aligned_mic_DW_extract.star ...\n",
      "... Downloading https://osf.io/download/5d24917d45253a001b399d23/ to /Users/fpoitevi/gdrive/cryoEM/Projects/Hugues_5ht3/Dataset_serotonin_calcium_March2018/GridSquare_1250569_Data_FoilHole_1279799_Data_1260339_1260340_20180304_0559-7301_aligned_mic_DW_extract.star ...\n",
      "... Downloading https://osf.io/download/5d24917f1c5b4a001a9c4194/ to /Users/fpoitevi/gdrive/cryoEM/Projects/Hugues_5ht3/Dataset_serotonin_calcium_March2018/GridSquare_1250569_Data_FoilHole_1279799_Data_1260350_1260351_20180304_0600-7302_aligned_mic_DW_extract.star ...\n",
      "... Downloading https://osf.io/download/5d249180a26b340016064d07/ to /Users/fpoitevi/gdrive/cryoEM/Projects/Hugues_5ht3/Dataset_serotonin_calcium_March2018/GridSquare_1250569_Data_FoilHole_1279800_Data_1259911_1259912_20180304_0602-7303_aligned_mic_DW_extract.star ...\n",
      "... Downloading https://osf.io/download/5d249183114a420016026379/ to /Users/fpoitevi/gdrive/cryoEM/Projects/Hugues_5ht3/Dataset_serotonin_calcium_March2018/GridSquare_1250569_Data_FoilHole_1279800_Data_1260350_1260351_20180304_0603-7305_aligned_mic_DW_extract.star ...\n",
      "... Downloading https://osf.io/download/5d24918445253a001939b6ab/ to /Users/fpoitevi/gdrive/cryoEM/Projects/Hugues_5ht3/Dataset_serotonin_calcium_March2018/GridSquare_1250569_Data_FoilHole_1279800_Data_1260339_1260340_20180304_0603-7304_aligned_mic_DW_extract.star ...\n",
      "... Downloading https://osf.io/download/5d249187a26b340016064d13/ to /Users/fpoitevi/gdrive/cryoEM/Projects/Hugues_5ht3/Dataset_serotonin_calcium_March2018/GridSquare_1250569_Data_FoilHole_1279801_Data_1260339_1260340_20180304_0606-7307_aligned_mic_DW_extract.star ...\n"
     ]
    }
   ],
   "source": [
    "interact.download_files_from_list(PROJECT_URL, PROJECT_DIR+'/'+DIR_NAME+'/', fileidlist, filelist)"
   ]
  },
  {
   "cell_type": "markdown",
   "metadata": {},
   "source": [
    "## More robust approach ?\n",
    "The approach above does not seem very stable when many pages are involved. We try something now where we download the content of the page that we have been currently visiting, if we have not downloaded it yet..."
   ]
  },
  {
   "cell_type": "code",
   "execution_count": 10,
   "metadata": {
    "scrolled": false
   },
   "outputs": [
    {
     "name": "stdout",
     "output_type": "stream",
     "text": [
      "About to skim through 2 pages\n",
      "Number of hits in page 616: 0\n",
      "Number of hits in page 617: 4\n",
      "... Downloading https://osf.io/download/5d24bcaa114a420019024167/ to /Users/fpoitevi/gdrive/cryoEM/Projects/Hugues_5ht3/Dataset_serotonin_calcium_March2018/FoilHole_1259224_Data_1260339_1260340_20180302_1531-5585_sum_DW.mrc ...\n",
      "... Downloading https://osf.io/download/bx86m/ to /Users/fpoitevi/gdrive/cryoEM/Projects/Hugues_5ht3/Dataset_serotonin_calcium_March2018/FoilHole_1259223_Data_1259911_1259912_20180302_1527-5581_sum_DW.mrc ...\n",
      "... Downloading https://osf.io/download/5d24bcada26b3400180622fa/ to /Users/fpoitevi/gdrive/cryoEM/Projects/Hugues_5ht3/Dataset_serotonin_calcium_March2018/FoilHole_1259223_Data_1260350_1260351_20180302_1528-5583_sum_DW.mrc ...\n",
      "... Downloading https://osf.io/download/5d24bcad114a42001902416e/ to /Users/fpoitevi/gdrive/cryoEM/Projects/Hugues_5ht3/Dataset_serotonin_calcium_March2018/FoilHole_1259224_Data_1259911_1259912_20180302_1530-5584_sum_DW.mrc ...\n"
     ]
    }
   ],
   "source": [
    "interact.download_per_page(PROJECT_URL, PROJECT_DIR+'/'+DIR_NAME+'/', DIR_ID=DIR_ID, ext='mrc', start_page=616, end_page=617)"
   ]
  },
  {
   "cell_type": "code",
   "execution_count": null,
   "metadata": {},
   "outputs": [],
   "source": []
  },
  {
   "cell_type": "code",
   "execution_count": null,
   "metadata": {},
   "outputs": [],
   "source": []
  },
  {
   "cell_type": "code",
   "execution_count": null,
   "metadata": {},
   "outputs": [],
   "source": []
  }
 ],
 "metadata": {
  "kernelspec": {
   "display_name": "Python 3",
   "language": "python",
   "name": "python3"
  },
  "language_info": {
   "codemirror_mode": {
    "name": "ipython",
    "version": 3
   },
   "file_extension": ".py",
   "mimetype": "text/x-python",
   "name": "python",
   "nbconvert_exporter": "python",
   "pygments_lexer": "ipython3",
   "version": "3.6.3"
  }
 },
 "nbformat": 4,
 "nbformat_minor": 2
}
