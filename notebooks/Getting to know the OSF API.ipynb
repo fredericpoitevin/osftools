{
 "cells": [
  {
   "cell_type": "markdown",
   "metadata": {},
   "source": [
    "# Getting to know the OSF API"
   ]
  },
  {
   "cell_type": "markdown",
   "metadata": {},
   "source": [
    "### Load our little `osftools` library"
   ]
  },
  {
   "cell_type": "code",
   "execution_count": 1,
   "metadata": {},
   "outputs": [],
   "source": [
    "import numpy as np\n",
    "from osftools import osf_interact as interact\n",
    "from osftools import osf_display as display"
   ]
  },
  {
   "cell_type": "markdown",
   "metadata": {},
   "source": [
    "### Define the project ID here"
   ]
  },
  {
   "cell_type": "code",
   "execution_count": 2,
   "metadata": {},
   "outputs": [],
   "source": [
    "PROJECT_ID = 'fuaqw'"
   ]
  },
  {
   "cell_type": "markdown",
   "metadata": {},
   "source": [
    "### Retrieve the project URL"
   ]
  },
  {
   "cell_type": "code",
   "execution_count": 3,
   "metadata": {},
   "outputs": [
    {
     "name": "stdout",
     "output_type": "stream",
     "text": [
      "Project fuaqw has URL https://api.osf.io/v2/nodes/fuaqw/files/osfstorage/\n"
     ]
    }
   ],
   "source": [
    "PROJECT_URL = interact.format_url(PROJECT_ID)\n",
    "print('Project {0} has URL {1}'.format(PROJECT_ID, PROJECT_URL))"
   ]
  },
  {
   "cell_type": "markdown",
   "metadata": {},
   "source": [
    "### Start exploring the data stored there"
   ]
  },
  {
   "cell_type": "code",
   "execution_count": 4,
   "metadata": {},
   "outputs": [
    {
     "name": "stdout",
     "output_type": "stream",
     "text": [
      "> input is a list of length 4\n"
     ]
    }
   ],
   "source": [
    "DATA = interact.get_url(PROJECT_URL)['data']\n",
    "display.explore_data_structure(DATA)"
   ]
  },
  {
   "cell_type": "code",
   "execution_count": 5,
   "metadata": {},
   "outputs": [
    {
     "name": "stdout",
     "output_type": "stream",
     "text": [
      "> input is a dictionary, with the following keys: \n",
      "dict_keys(['relationships', 'links', 'attributes', 'type', 'id'])\n",
      "> input is a dictionary, with the following keys: \n",
      "dict_keys(['relationships', 'links', 'attributes', 'type', 'id'])\n",
      "> input is a dictionary, with the following keys: \n",
      "dict_keys(['relationships', 'links', 'attributes', 'type', 'id'])\n",
      "> input is a dictionary, with the following keys: \n",
      "dict_keys(['relationships', 'links', 'attributes', 'type', 'id'])\n"
     ]
    }
   ],
   "source": [
    "for i in np.arange(len(DATA)):\n",
    "    display.explore_data_structure(DATA[i])"
   ]
  },
  {
   "cell_type": "code",
   "execution_count": 6,
   "metadata": {},
   "outputs": [
    {
     "name": "stdout",
     "output_type": "stream",
     "text": [
      "> input is a dictionary, with the following keys: \n",
      "dict_keys(['extra', 'kind', 'name', 'last_touched', 'materialized_path', 'date_modified', 'current_version', 'date_created', 'provider', 'path', 'current_user_can_comment', 'guid', 'checkout', 'tags', 'size'])\n"
     ]
    }
   ],
   "source": [
    "display.explore_data_structure(DATA[0]['attributes'])"
   ]
  },
  {
   "cell_type": "code",
   "execution_count": 7,
   "metadata": {},
   "outputs": [
    {
     "name": "stdout",
     "output_type": "stream",
     "text": [
      "> input is not a list nor a dictionary. We print it below:\n",
      " Dataset_serotonin_calcium_March2018\n"
     ]
    }
   ],
   "source": [
    "display.explore_data_structure(DATA[0]['attributes']['name'])"
   ]
  },
  {
   "cell_type": "code",
   "execution_count": 8,
   "metadata": {},
   "outputs": [
    {
     "name": "stdout",
     "output_type": "stream",
     "text": [
      "> input is not a list nor a dictionary. We print it below:\n",
      " folder\n"
     ]
    }
   ],
   "source": [
    "display.explore_data_structure(DATA[0]['attributes']['kind'])"
   ]
  },
  {
   "cell_type": "code",
   "execution_count": 9,
   "metadata": {},
   "outputs": [
    {
     "name": "stdout",
     "output_type": "stream",
     "text": [
      "> input is not a list nor a dictionary. We print it below:\n",
      " 5d2490391c5b4a001b9be7e1\n"
     ]
    }
   ],
   "source": [
    "display.explore_data_structure(DATA[0]['id'])"
   ]
  },
  {
   "cell_type": "markdown",
   "metadata": {},
   "source": [
    "### We have identified a directory, start exploring its content"
   ]
  },
  {
   "cell_type": "code",
   "execution_count": 10,
   "metadata": {},
   "outputs": [
    {
     "name": "stdout",
     "output_type": "stream",
     "text": [
      "> input is a dictionary, with the following keys: \n",
      "dict_keys(['data', 'links', 'meta'])\n"
     ]
    }
   ],
   "source": [
    "DIR_URL = interact.format_url(PROJECT_ID, ID='5d2490391c5b4a001b9be7e1')\n",
    "DIR_DATA = interact.get_url(DIR_URL)\n",
    "display.explore_data_structure(DIR_DATA)"
   ]
  },
  {
   "cell_type": "code",
   "execution_count": 11,
   "metadata": {},
   "outputs": [
    {
     "name": "stdout",
     "output_type": "stream",
     "text": [
      "> input is a list of length 10\n"
     ]
    }
   ],
   "source": [
    "display.explore_data_structure(DIR_DATA['data'])"
   ]
  },
  {
   "cell_type": "code",
   "execution_count": 12,
   "metadata": {},
   "outputs": [
    {
     "name": "stdout",
     "output_type": "stream",
     "text": [
      "> input is a dictionary, with the following keys: \n",
      "dict_keys(['relationships', 'links', 'attributes', 'type', 'id'])\n",
      "> input is a dictionary, with the following keys: \n",
      "dict_keys(['relationships', 'links', 'attributes', 'type', 'id'])\n",
      "> input is a dictionary, with the following keys: \n",
      "dict_keys(['relationships', 'links', 'attributes', 'type', 'id'])\n",
      "> input is a dictionary, with the following keys: \n",
      "dict_keys(['relationships', 'links', 'attributes', 'type', 'id'])\n",
      "> input is a dictionary, with the following keys: \n",
      "dict_keys(['relationships', 'links', 'attributes', 'type', 'id'])\n",
      "> input is a dictionary, with the following keys: \n",
      "dict_keys(['relationships', 'links', 'attributes', 'type', 'id'])\n",
      "> input is a dictionary, with the following keys: \n",
      "dict_keys(['relationships', 'links', 'attributes', 'type', 'id'])\n",
      "> input is a dictionary, with the following keys: \n",
      "dict_keys(['relationships', 'links', 'attributes', 'type', 'id'])\n",
      "> input is a dictionary, with the following keys: \n",
      "dict_keys(['relationships', 'links', 'attributes', 'type', 'id'])\n",
      "> input is a dictionary, with the following keys: \n",
      "dict_keys(['relationships', 'links', 'attributes', 'type', 'id'])\n"
     ]
    }
   ],
   "source": [
    "for i in np.arange(len(DIR_DATA['data'])):\n",
    "    display.explore_data_structure(DIR_DATA['data'][i])"
   ]
  },
  {
   "cell_type": "code",
   "execution_count": 13,
   "metadata": {
    "scrolled": false
   },
   "outputs": [
    {
     "name": "stdout",
     "output_type": "stream",
     "text": [
      "> input is a dictionary, with the following keys: \n",
      "dict_keys(['extra', 'kind', 'name', 'last_touched', 'materialized_path', 'date_modified', 'current_version', 'date_created', 'provider', 'path', 'current_user_can_comment', 'guid', 'checkout', 'tags', 'size'])\n"
     ]
    }
   ],
   "source": [
    "display.explore_data_structure(DIR_DATA['data'][0]['attributes'])"
   ]
  },
  {
   "cell_type": "code",
   "execution_count": 14,
   "metadata": {},
   "outputs": [
    {
     "name": "stdout",
     "output_type": "stream",
     "text": [
      "{\n",
      "    \"extra\": {\n",
      "        \"hashes\": {\n",
      "            \"sha256\": \"4d2d4e6d45353b27b7bb37f8358b18af36bd3e64660589f8aaf350181a4f6b11\",\n",
      "            \"md5\": \"359d2d4d6884912a350ec06a5db5bbe3\"\n",
      "        },\n",
      "        \"downloads\": 0\n",
      "    },\n",
      "    \"kind\": \"file\",\n",
      "    \"name\": \"GridSquare_1250569_Data_FoilHole_1279798_Data_1260339_1260340_20180304_0556-7298_aligned_mic_DW_extract.star\",\n",
      "    \"last_touched\": null,\n",
      "    \"materialized_path\": \"/Dataset_serotonin_calcium_March2018/GridSquare_1250569_Data_FoilHole_1279798_Data_1260339_1260340_20180304_0556-7298_aligned_mic_DW_extract.star\",\n",
      "    \"date_modified\": \"2019-07-09T13:07:01.124541Z\",\n",
      "    \"current_version\": 1,\n",
      "    \"date_created\": \"2019-07-09T13:07:01.124541Z\",\n",
      "    \"provider\": \"osfstorage\",\n",
      "    \"path\": \"/5d24917545253a001b399d14\",\n",
      "    \"current_user_can_comment\": false,\n",
      "    \"guid\": null,\n",
      "    \"checkout\": null,\n",
      "    \"tags\": [],\n",
      "    \"size\": 16855\n",
      "}\n"
     ]
    }
   ],
   "source": [
    "display.display(DIR_DATA['data'][0]['attributes'])"
   ]
  },
  {
   "cell_type": "code",
   "execution_count": 15,
   "metadata": {},
   "outputs": [
    {
     "name": "stdout",
     "output_type": "stream",
     "text": [
      "> input is not a list nor a dictionary. We print it below:\n",
      " GridSquare_1250569_Data_FoilHole_1279798_Data_1260339_1260340_20180304_0556-7298_aligned_mic_DW_extract.star\n"
     ]
    }
   ],
   "source": [
    "display.explore_data_structure(DIR_DATA['data'][0]['attributes']['name'])"
   ]
  },
  {
   "cell_type": "code",
   "execution_count": 16,
   "metadata": {},
   "outputs": [
    {
     "name": "stdout",
     "output_type": "stream",
     "text": [
      "> input is not a list nor a dictionary. We print it below:\n",
      " file\n"
     ]
    }
   ],
   "source": [
    "display.explore_data_structure(DIR_DATA['data'][0]['attributes']['kind'])"
   ]
  },
  {
   "cell_type": "code",
   "execution_count": 17,
   "metadata": {},
   "outputs": [
    {
     "name": "stdout",
     "output_type": "stream",
     "text": [
      "> input is not a list nor a dictionary. We print it below:\n",
      " 5d24917545253a001b399d14\n"
     ]
    }
   ],
   "source": [
    "display.explore_data_structure(DIR_DATA['data'][0]['id']) "
   ]
  },
  {
   "cell_type": "code",
   "execution_count": 18,
   "metadata": {},
   "outputs": [
    {
     "name": "stdout",
     "output_type": "stream",
     "text": [
      "> input is a dictionary, with the following keys: \n",
      "dict_keys(['first', 'last', 'prev', 'next', 'meta'])\n"
     ]
    }
   ],
   "source": [
    "display.explore_data_structure(DIR_DATA['links'])"
   ]
  },
  {
   "cell_type": "code",
   "execution_count": 19,
   "metadata": {},
   "outputs": [
    {
     "name": "stdout",
     "output_type": "stream",
     "text": [
      "{\n",
      "    \"first\": null,\n",
      "    \"last\": \"https://api.osf.io/v2/nodes/fuaqw/files/osfstorage/5d2490391c5b4a001b9be7e1/?page=925\",\n",
      "    \"prev\": null,\n",
      "    \"next\": \"https://api.osf.io/v2/nodes/fuaqw/files/osfstorage/5d2490391c5b4a001b9be7e1/?page=2\",\n",
      "    \"meta\": {\n",
      "        \"total\": 9250,\n",
      "        \"per_page\": 10\n",
      "    }\n",
      "}\n"
     ]
    }
   ],
   "source": [
    "display.display(DIR_DATA['links'])"
   ]
  },
  {
   "cell_type": "code",
   "execution_count": 20,
   "metadata": {
    "scrolled": false
   },
   "outputs": [
    {
     "name": "stdout",
     "output_type": "stream",
     "text": [
      "> input is a dictionary, with the following keys: \n",
      "dict_keys(['version'])\n"
     ]
    }
   ],
   "source": [
    "display.explore_data_structure(DIR_DATA['meta']) "
   ]
  },
  {
   "cell_type": "code",
   "execution_count": 21,
   "metadata": {},
   "outputs": [
    {
     "name": "stdout",
     "output_type": "stream",
     "text": [
      "925\n"
     ]
    }
   ],
   "source": [
    "print(DIR_DATA['links']['last'].split(\"?page=\")[1])"
   ]
  }
 ],
 "metadata": {
  "kernelspec": {
   "display_name": "Python 3",
   "language": "python",
   "name": "python3"
  },
  "language_info": {
   "codemirror_mode": {
    "name": "ipython",
    "version": 3
   },
   "file_extension": ".py",
   "mimetype": "text/x-python",
   "name": "python",
   "nbconvert_exporter": "python",
   "pygments_lexer": "ipython3",
   "version": "3.6.3"
  }
 },
 "nbformat": 4,
 "nbformat_minor": 2
}
